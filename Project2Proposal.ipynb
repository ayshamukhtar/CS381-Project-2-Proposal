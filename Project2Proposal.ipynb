{
  "nbformat": 4,
  "nbformat_minor": 0,
  "metadata": {
    "colab": {
      "provenance": []
    },
    "kernelspec": {
      "name": "python3",
      "display_name": "Python 3"
    },
    "language_info": {
      "name": "python"
    }
  },
  "cells": [
    {
      "cell_type": "markdown",
      "source": [
        "Group Members:\n",
        "\n",
        "Aysha Mukhtar,\n",
        "Anthony Jerez-Tenecela,\n",
        "Jahed Ullah,\n",
        "Youssef Moussa"
      ],
      "metadata": {
        "id": "_6ShrABoh2Cn"
      }
    },
    {
      "cell_type": "markdown",
      "source": [
        "# Introduction\n",
        "\n",
        "Crime remains a pressing issue in New York City, and informed decision-making is crucial for effective policing. To date in 2025, over 71,000 arrests have been recorded across each borough, offering a great source of data for analyzing public safety trends. Each recorded arrest has key attributes, including the level of offense, location, date, and demographic data such as age, race, and gender. Among these, the level of offense (felony, misdemeanor, or violation) serves as a critical measurement for understanding the severity of the crimes committed across the city.\n",
        "\n",
        "Examining how the level of offense varies by age group, borough, and time provides great insight into where public policy initiatives and resources can be prioritized. For instance, patterns in offense levels may highlight the need for location-based allocation of resources or adjustments to patrol schedules. By uncovering such patterns, we can make informed decisions that aim to improve public safety while ensuring a fair justice system. The insights gained from our analysis will provide the information essential for our local government and policymakers to take action in reducing crime and achieving a safer city."
      ],
      "metadata": {
        "id": "vvf56QU3bhK_"
      }
    },
    {
      "cell_type": "markdown",
      "source": [
        "# Research Questions:\n",
        "\n",
        "1. What levels of offense are most commonly associated with different age groups?\n",
        "2. How does the level of offense vary across boroughs in New York City?\n",
        "3. Are there specific times such as month, weekday and hour when higher level offenses are more likely to occur?\n",
        "\n",
        "\n",
        "### Real-World Implementation\n",
        "Understanding how the level of crimes changes depending on age, location, and time can really help police, city leaders, and local groups make better decisions. For example, if younger people are being arrested more often for smaller crimes in certain neighborhoods, it could show the need for youth programs or support. If serious crimes are happening more in certain places or at specific times, police can plan their patrols better. This kind of information can also help with making sure the justice system is fair by pointing out patterns that may show unfair treatment. Overall, this research can lead to smarter and more fair public safety plans for the city.\n",
        "\n"
      ],
      "metadata": {
        "id": "cNCr1JbCNAsM"
      }
    },
    {
      "cell_type": "markdown",
      "source": [
        "# Data to be Used:\n",
        "\n",
        "- **Dataset:** “NYPD Arrest Data (Year to Date)” from the NYC Open Data Portal.\n",
        "- **Access Method:** The raw CSV was downloaded from the portal and committed to our team's GitHub repository. We will import the GitHub-hosted CSV directly into our Colab notebook with pandas.\n",
        "\n",
        "\n",
        "This dataset includes thousands of arrest records from New York City and provides detailed features such as the age group of the arrested individual, borough of arrest, date and time of arrest, and the offense description.\n",
        "\n",
        " This dataset contains the LEVEL_OF_OFFENSE variable (our dependent variable) and supporting fields such as:\n",
        "\n",
        "AGE_GROUP (e.g., <18, 18–24, 25–44, etc.)\n",
        "\n",
        "ARREST_BORO (e.g., Brooklyn, Bronx, etc.)\n",
        "\n",
        "ARREST_DATE and ARREST_TIME\n",
        "\n",
        "We will analyze how offense level (felony/misdemeanor/violation) correlates with age, location, and time based trends.\n",
        "\n",
        "\n"
      ],
      "metadata": {
        "id": "I677gJ0l_Ovi"
      }
    },
    {
      "cell_type": "markdown",
      "source": [
        "# Approach\n",
        "\n",
        "Initially, the data will be stored locally for exploration and cleaning. All the data analysis will be conducted through Google Colab. Once the data is cleaned, the dataset will be uploaded to a GitHub repository and accessed in our notebook by  a raw URL for readability.\n",
        "\n",
        "The dataset contains both categorical and numeric data, and our plan includes:\n",
        "\n",
        "**Exploratory Data Analysis (EDA)**  \n",
        "   - Compute summary statistics and missing-value counts.\n",
        "   - Plot histograms of numeric features and bar charts for categorical counts.\n",
        "   - Generate a correlation heatmap of numeric fields.\n",
        "\n",
        "**Data Cleaning & Preparation**  \n",
        "   - Impute or drop any nulls in key columns\n",
        "   - Handle outliers in coordinate or code fields  \n",
        "  \n",
        "**Feature Engineering & Reshaping**  \n",
        "   - One-hot encode borough and offense categories  \n",
        "   - Using appropriate transformations and grouping methods (pivot tables, crosstabs)  \n",
        "\n",
        "**Modeling & Evaluation**  \n",
        "   - Split data into train/test sets  \n",
        "   - Train four in-class models (logistic regression, decision tree, random forest, Poisson regression)  \n",
        "   - Train two additional models and build a voting ensemble  \n",
        "   - Use cross-validation; evaluate with accuracy, precision, recall, F1, ROC-AUC for classification.\n",
        "\n",
        "For our analysis, we plan to use a combination of descriptive and inferential statistics, as well as modeling techniques. Descriptive statistics will help us understand the frequency and distribution of crimes across age groups, boroughs, and dates. Chi-square tests of independence will be used to determine whether there are statistically significant relationships between categorical variables, such as crime type and borough or age group. We will also use multinomial logistic regression to model the likelihood of different crime types occurring based on predictors like age group, borough, and time of year. To detect patterns, we will perform time-based aggregations to identify trends or seasonal trends in crime. Additionally, we may incorporate classification or clustering models such as decision trees or KMeans to uncover hidden patterns, and we will assess missing data through techniques like mode imputation, dropping sparse records, and forward-fill methods. To visually communicate our findings, we will create bar charts, heatmaps, time series plots, and potentially geospatial maps using tools like folium or geopandas. Each visualization will be clearly explained and, when applicable, supported by statistical tests"
      ],
      "metadata": {
        "id": "BMQ3H29B3463"
      }
    }
  ]
}